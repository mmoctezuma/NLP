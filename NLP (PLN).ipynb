{
 "cells": [
  {
   "cell_type": "markdown",
   "metadata": {},
   "source": [
    "# Mario Alberto Moctezuma Salazar"
   ]
  },
  {
   "cell_type": "code",
   "execution_count": 3,
   "metadata": {},
   "outputs": [],
   "source": [
    "import pandas as pd\n",
    "import sklearn\n",
    "import numpy as np"
   ]
  },
  {
   "cell_type": "code",
   "execution_count": 4,
   "metadata": {},
   "outputs": [],
   "source": [
    "from sklearn.feature_extraction.text import CountVectorizer, TfidfVectorizer, TfidfTransformer\n",
    "from sklearn.pipeline import Pipeline\n",
    "from sklearn.model_selection import train_test_split, KFold\n",
    "from sklearn.naive_bayes import MultinomialNB\n",
    "from sklearn.metrics import accuracy_score"
   ]
  },
  {
   "cell_type": "code",
   "execution_count": 8,
   "metadata": {},
   "outputs": [],
   "source": [
    "Complaints = pd.read_csv('Consumer_Complaints.csv', low_memory=False)"
   ]
  },
  {
   "cell_type": "code",
   "execution_count": 11,
   "metadata": {},
   "outputs": [
    {
     "data": {
      "text/html": [
       "<div>\n",
       "<style scoped>\n",
       "    .dataframe tbody tr th:only-of-type {\n",
       "        vertical-align: middle;\n",
       "    }\n",
       "\n",
       "    .dataframe tbody tr th {\n",
       "        vertical-align: top;\n",
       "    }\n",
       "\n",
       "    .dataframe thead th {\n",
       "        text-align: right;\n",
       "    }\n",
       "</style>\n",
       "<table border=\"1\" class=\"dataframe\">\n",
       "  <thead>\n",
       "    <tr style=\"text-align: right;\">\n",
       "      <th></th>\n",
       "      <th>Date received</th>\n",
       "      <th>Product</th>\n",
       "      <th>Sub-product</th>\n",
       "      <th>Issue</th>\n",
       "      <th>Sub-issue</th>\n",
       "      <th>Consumer complaint narrative</th>\n",
       "      <th>Company public response</th>\n",
       "      <th>Company</th>\n",
       "      <th>State</th>\n",
       "      <th>ZIP code</th>\n",
       "      <th>Tags</th>\n",
       "      <th>Consumer consent provided?</th>\n",
       "      <th>Submitted via</th>\n",
       "      <th>Date sent to company</th>\n",
       "      <th>Company response to consumer</th>\n",
       "      <th>Timely response?</th>\n",
       "      <th>Consumer disputed?</th>\n",
       "      <th>Complaint ID</th>\n",
       "    </tr>\n",
       "  </thead>\n",
       "  <tbody>\n",
       "    <tr>\n",
       "      <th>81040</th>\n",
       "      <td>09/16/2015</td>\n",
       "      <td>Credit reporting</td>\n",
       "      <td>NaN</td>\n",
       "      <td>Incorrect information on credit report</td>\n",
       "      <td>Account terms</td>\n",
       "      <td>The company is disputing an item from XX/XX/XX...</td>\n",
       "      <td>Company chooses not to provide a public response</td>\n",
       "      <td>TransUnion Intermediate Holdings, Inc.</td>\n",
       "      <td>NY</td>\n",
       "      <td>112XX</td>\n",
       "      <td>NaN</td>\n",
       "      <td>Consent provided</td>\n",
       "      <td>Web</td>\n",
       "      <td>09/16/2015</td>\n",
       "      <td>Closed with explanation</td>\n",
       "      <td>Yes</td>\n",
       "      <td>No</td>\n",
       "      <td>1567736</td>\n",
       "    </tr>\n",
       "    <tr>\n",
       "      <th>8207</th>\n",
       "      <td>11/12/2013</td>\n",
       "      <td>Credit reporting</td>\n",
       "      <td>NaN</td>\n",
       "      <td>Incorrect information on credit report</td>\n",
       "      <td>Information is not mine</td>\n",
       "      <td>NaN</td>\n",
       "      <td>NaN</td>\n",
       "      <td>Equifax</td>\n",
       "      <td>TX</td>\n",
       "      <td>76901</td>\n",
       "      <td>NaN</td>\n",
       "      <td>NaN</td>\n",
       "      <td>Web</td>\n",
       "      <td>11/12/2013</td>\n",
       "      <td>Closed with non-monetary relief</td>\n",
       "      <td>Yes</td>\n",
       "      <td>No</td>\n",
       "      <td>593418</td>\n",
       "    </tr>\n",
       "    <tr>\n",
       "      <th>387598</th>\n",
       "      <td>06/25/2013</td>\n",
       "      <td>Mortgage</td>\n",
       "      <td>Other mortgage</td>\n",
       "      <td>Loan modification,collection,foreclosure</td>\n",
       "      <td>NaN</td>\n",
       "      <td>NaN</td>\n",
       "      <td>NaN</td>\n",
       "      <td>Ocwen</td>\n",
       "      <td>NY</td>\n",
       "      <td>10901</td>\n",
       "      <td>NaN</td>\n",
       "      <td>NaN</td>\n",
       "      <td>Referral</td>\n",
       "      <td>07/03/2013</td>\n",
       "      <td>Closed with explanation</td>\n",
       "      <td>Yes</td>\n",
       "      <td>No</td>\n",
       "      <td>441794</td>\n",
       "    </tr>\n",
       "    <tr>\n",
       "      <th>579658</th>\n",
       "      <td>05/03/2016</td>\n",
       "      <td>Credit reporting</td>\n",
       "      <td>NaN</td>\n",
       "      <td>Credit reporting company's investigation</td>\n",
       "      <td>No notice of investigation status/result</td>\n",
       "      <td>I 'm filing this complaint Experian has ignore...</td>\n",
       "      <td>Company has responded to the consumer and the ...</td>\n",
       "      <td>Experian</td>\n",
       "      <td>DE</td>\n",
       "      <td>198XX</td>\n",
       "      <td>NaN</td>\n",
       "      <td>Consent provided</td>\n",
       "      <td>Web</td>\n",
       "      <td>05/03/2016</td>\n",
       "      <td>Closed with non-monetary relief</td>\n",
       "      <td>Yes</td>\n",
       "      <td>No</td>\n",
       "      <td>1907353</td>\n",
       "    </tr>\n",
       "    <tr>\n",
       "      <th>179439</th>\n",
       "      <td>09/19/2014</td>\n",
       "      <td>Credit reporting</td>\n",
       "      <td>NaN</td>\n",
       "      <td>Incorrect information on credit report</td>\n",
       "      <td>Information is not mine</td>\n",
       "      <td>NaN</td>\n",
       "      <td>NaN</td>\n",
       "      <td>Equifax</td>\n",
       "      <td>FL</td>\n",
       "      <td>33317</td>\n",
       "      <td>NaN</td>\n",
       "      <td>NaN</td>\n",
       "      <td>Web</td>\n",
       "      <td>09/19/2014</td>\n",
       "      <td>Closed with explanation</td>\n",
       "      <td>Yes</td>\n",
       "      <td>Yes</td>\n",
       "      <td>1036021</td>\n",
       "    </tr>\n",
       "  </tbody>\n",
       "</table>\n",
       "</div>"
      ],
      "text/plain": [
       "       Date received           Product     Sub-product  \\\n",
       "81040     09/16/2015  Credit reporting             NaN   \n",
       "8207      11/12/2013  Credit reporting             NaN   \n",
       "387598    06/25/2013          Mortgage  Other mortgage   \n",
       "579658    05/03/2016  Credit reporting             NaN   \n",
       "179439    09/19/2014  Credit reporting             NaN   \n",
       "\n",
       "                                           Issue  \\\n",
       "81040     Incorrect information on credit report   \n",
       "8207      Incorrect information on credit report   \n",
       "387598  Loan modification,collection,foreclosure   \n",
       "579658  Credit reporting company's investigation   \n",
       "179439    Incorrect information on credit report   \n",
       "\n",
       "                                       Sub-issue  \\\n",
       "81040                              Account terms   \n",
       "8207                     Information is not mine   \n",
       "387598                                       NaN   \n",
       "579658  No notice of investigation status/result   \n",
       "179439                   Information is not mine   \n",
       "\n",
       "                             Consumer complaint narrative  \\\n",
       "81040   The company is disputing an item from XX/XX/XX...   \n",
       "8207                                                  NaN   \n",
       "387598                                                NaN   \n",
       "579658  I 'm filing this complaint Experian has ignore...   \n",
       "179439                                                NaN   \n",
       "\n",
       "                                  Company public response  \\\n",
       "81040    Company chooses not to provide a public response   \n",
       "8207                                                  NaN   \n",
       "387598                                                NaN   \n",
       "579658  Company has responded to the consumer and the ...   \n",
       "179439                                                NaN   \n",
       "\n",
       "                                       Company State ZIP code Tags  \\\n",
       "81040   TransUnion Intermediate Holdings, Inc.    NY    112XX  NaN   \n",
       "8207                                   Equifax    TX    76901  NaN   \n",
       "387598                                   Ocwen    NY    10901  NaN   \n",
       "579658                                Experian    DE    198XX  NaN   \n",
       "179439                                 Equifax    FL    33317  NaN   \n",
       "\n",
       "       Consumer consent provided? Submitted via Date sent to company  \\\n",
       "81040            Consent provided           Web           09/16/2015   \n",
       "8207                          NaN           Web           11/12/2013   \n",
       "387598                        NaN      Referral           07/03/2013   \n",
       "579658           Consent provided           Web           05/03/2016   \n",
       "179439                        NaN           Web           09/19/2014   \n",
       "\n",
       "           Company response to consumer Timely response? Consumer disputed?  \\\n",
       "81040           Closed with explanation              Yes                 No   \n",
       "8207    Closed with non-monetary relief              Yes                 No   \n",
       "387598          Closed with explanation              Yes                 No   \n",
       "579658  Closed with non-monetary relief              Yes                 No   \n",
       "179439          Closed with explanation              Yes                Yes   \n",
       "\n",
       "        Complaint ID  \n",
       "81040        1567736  \n",
       "8207          593418  \n",
       "387598        441794  \n",
       "579658       1907353  \n",
       "179439       1036021  "
      ]
     },
     "execution_count": 11,
     "metadata": {},
     "output_type": "execute_result"
    }
   ],
   "source": [
    "Complaints.sample(5)"
   ]
  },
  {
   "cell_type": "markdown",
   "metadata": {},
   "source": [
    "<hr>\n",
    "<h1> <center> ML for product prediction </center> </h1>\n",
    "<hr>"
   ]
  },
  {
   "cell_type": "markdown",
   "metadata": {},
   "source": [
    "## *Approach 1:* MultinomialNB applied to `Consumer complaint narrative` "
   ]
  },
  {
   "cell_type": "markdown",
   "metadata": {},
   "source": [
    "### *Why this model?* We use this method to consider maximum likelihood using the bag of words"
   ]
  },
  {
   "cell_type": "markdown",
   "metadata": {},
   "source": [
    "### First we create a  `DataFrame` containing only `Consumer complaint narrative` different from `NaN`.\n",
    "### Here we take\n",
    "``\n",
    "X1 = Nar_complaints['Consumer complaint narrative']\n",
    "y1 = Nar_complaints.Product\n",
    "``\n",
    "### Then we make a pipeline where we vectorize the text, eliminate \"stop words\" in english, and apply the method MultinominalNB"
   ]
  },
  {
   "cell_type": "code",
   "execution_count": 4,
   "metadata": {},
   "outputs": [],
   "source": [
    "Nar_complaints = Complaints.dropna(subset=['Consumer complaint narrative'])\n",
    "Nar_complaints = Nar_complaints.reset_index(drop=True)\n",
    "\n",
    "X1 = Nar_complaints['Consumer complaint narrative']\n",
    "y1 = Nar_complaints.Product\n",
    "\n",
    "text_clf = Pipeline([('tfidf', TfidfVectorizer(max_df=0.95, min_df=2, max_features=1000, stop_words='english')),\n",
    "                     ('clf', MultinomialNB(alpha=1.0e-10)),])"
   ]
  },
  {
   "cell_type": "markdown",
   "metadata": {},
   "source": [
    "### Next we create our own function to validate and calculate the accuracy for each fold, since there is not cross-validation technique for `str` data. In the second cell below we can see the accuracy score of each fold and the mean of these:"
   ]
  },
  {
   "cell_type": "code",
   "execution_count": 5,
   "metadata": {},
   "outputs": [],
   "source": [
    "kf = KFold(n_splits=5, random_state=1, shuffle=True)\n",
    "\n",
    "\n",
    "def kfold(X, y, kf, pipe):\n",
    "    acc_list = []\n",
    "    for train_idx, test_idx in kf.split(X):\n",
    "        pipe.fit(X[train_idx], y[train_idx])\n",
    "        predd = pipe.predict(X[test_idx])\n",
    "        acc = accuracy_score(y[test_idx], predd)\n",
    "        print(acc)\n",
    "    acc_list.append(acc)\n",
    "    return np.mean(acc_list)"
   ]
  },
  {
   "cell_type": "code",
   "execution_count": 6,
   "metadata": {},
   "outputs": [
    {
     "name": "stdout",
     "output_type": "stream",
     "text": [
      "0.7874983653720413\n",
      "0.7918573732618456\n",
      "0.7915086526306613\n",
      "0.7918573732618456\n",
      "0.7884045335658239\n"
     ]
    },
    {
     "data": {
      "text/plain": [
       "0.7884045335658239"
      ]
     },
     "execution_count": 6,
     "metadata": {},
     "output_type": "execute_result"
    }
   ],
   "source": [
    "kfold(X1, y1, kf, text_clf) "
   ]
  },
  {
   "cell_type": "markdown",
   "metadata": {},
   "source": [
    "### We see that the accuracy scores above are not that different , which roughly means that any subset to test is good. Besides, based on the mean value of the accuaracy of the folds, we can predict the product from the text of the 'Consumer complaint narrative', with an 78.8% of accuracy."
   ]
  },
  {
   "cell_type": "markdown",
   "metadata": {},
   "source": [
    "## *Approach 2:* MultinomialNB applied to `Issue`"
   ]
  },
  {
   "cell_type": "markdown",
   "metadata": {},
   "source": [
    "### Since the column of `Consumer complaint narrative` has many `NaN`, we consider the `Issues` column and `MultinomialNB`:\n",
    "\n",
    "\n",
    "### Here we take\n",
    "``\n",
    "X2 = Complaints.Issue\n",
    "y2 = Complaints.Product\n",
    "``\n",
    "### Then we make a pipeline where we choose vectorize with `TfidfTransformer()` since the `Issue` column is quite standard in its values. Applying the method we get:"
   ]
  },
  {
   "cell_type": "code",
   "execution_count": 7,
   "metadata": {},
   "outputs": [],
   "source": [
    "X2 = Complaints.Issue\n",
    "y2 = Complaints.Product"
   ]
  },
  {
   "cell_type": "code",
   "execution_count": 8,
   "metadata": {},
   "outputs": [
    {
     "name": "stdout",
     "output_type": "stream",
     "text": [
      "0.9844915001491202\n",
      "0.9851774530271399\n",
      "0.9842156277960036\n",
      "0.9849834848157234\n",
      "0.9846703300800036\n"
     ]
    },
    {
     "data": {
      "text/plain": [
       "0.9846703300800036"
      ]
     },
     "execution_count": 8,
     "metadata": {},
     "output_type": "execute_result"
    }
   ],
   "source": [
    "text_clf2 = Pipeline([('vect', CountVectorizer()),\n",
    "                     ('tfidf', TfidfTransformer()),\n",
    "                     ('clf', MultinomialNB(alpha=1.0e-10)),])\n",
    "\n",
    "kfold(X2, y2, kf, text_clf2)"
   ]
  },
  {
   "cell_type": "markdown",
   "metadata": {},
   "source": [
    "### We see that the accuracy scores above are not that different among them, but *significantly* better than those of the first approach. The latter is possibly due to the \"standard\" values of the `Issue` column.\n",
    "\n",
    "### Here we predict the product with an 98.4% of accuracy."
   ]
  }
 ],
 "metadata": {
  "kernelspec": {
   "display_name": "Python 3",
   "language": "python",
   "name": "python3"
  },
  "language_info": {
   "codemirror_mode": {
    "name": "ipython",
    "version": 3
   },
   "file_extension": ".py",
   "mimetype": "text/x-python",
   "name": "python",
   "nbconvert_exporter": "python",
   "pygments_lexer": "ipython3",
   "version": "3.7.5"
  }
 },
 "nbformat": 4,
 "nbformat_minor": 4
}
